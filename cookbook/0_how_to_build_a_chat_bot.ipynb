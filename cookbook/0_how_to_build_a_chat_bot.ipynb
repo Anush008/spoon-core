{
 "cells": [
  {
   "cell_type": "code",
   "execution_count": 13,
   "metadata": {},
   "outputs": [
    {
     "name": "stdout",
     "output_type": "stream",
     "text": [
      "Environment check:\n",
      "Anthropic API key available: True\n",
      "OpenAI API key available: True\n"
     ]
    }
   ],
   "source": [
    "import os\n",
    "import asyncio\n",
    "from typing import List\n",
    "import json\n",
    "import nest_asyncio\n",
    "import sys\n",
    "\n",
    "parent_dir = os.path.dirname(os.getcwd())\n",
    "if parent_dir not in sys.path:\n",
    "    sys.path.append(parent_dir)\n",
    "\n",
    "\n",
    "# Import SpoonAI components\n",
    "from spoon_ai.chat import ChatBot, Memory\n",
    "from spoon_ai.schema import Message\n",
    "\n",
    "# Apply nest_asyncio to allow running asyncio in Jupyter\n",
    "nest_asyncio.apply()\n",
    "\n",
    "\n",
    "\n",
    "# Check for API keys in environment variables\n",
    "anthropic_key = os.getenv(\"ANTHROPIC_API_KEY\", \"YOUR_ANTHROPIC_API_KEY\")\n",
    "openai_key = os.getenv(\"OPENAI_API_KEY\", \"YOUR_OPENAI_API_KEY\")\n",
    "\n",
    "print(\"Environment check:\")\n",
    "print(f\"Anthropic API key available: {anthropic_key is not None}\")\n",
    "print(f\"OpenAI API key available: {openai_key is not None}\")"
   ]
  },
  {
   "cell_type": "code",
   "execution_count": 14,
   "metadata": {},
   "outputs": [
    {
     "name": "stdout",
     "output_type": "stream",
     "text": [
      "ChatBot initialized successfully!\n",
      "Provider: anthropic\n",
      "Model: claude-3-7-sonnet-20250219\n"
     ]
    }
   ],
   "source": [
    "# Cell 2: Initialize the ChatBot\n",
    "# Configure your preferred LLM provider and model\n",
    "llm_provider = \"anthropic\"  # Options: \"anthropic\" or \"openai\"\n",
    "model_name = \"claude-3-7-sonnet-20250219\"  # Best model\n",
    "\n",
    "# Set API key if needed\n",
    "if llm_provider == \"anthropic\" and not anthropic_key:\n",
    "    os.environ[\"ANTHROPIC_API_KEY\"] = \"your_anthropic_key_here\"  # Replace with your key\n",
    "elif llm_provider == \"openai\" and not openai_key:\n",
    "    os.environ[\"OPENAI_API_KEY\"] = \"your_openai_key_here\"  # Replace with your key\n",
    "\n",
    "# Initialize the ChatBot\n",
    "chatbot = ChatBot(\n",
    "    llm_provider=llm_provider,\n",
    "    model_name=model_name,\n",
    "    api_key=os.getenv(\"ANTHROPIC_API_KEY\") if llm_provider == \"anthropic\" else os.getenv(\"OPENAI_API_KEY\")\n",
    ")\n",
    "\n",
    "print(f\"ChatBot initialized successfully!\")\n",
    "print(f\"Provider: {chatbot.llm_provider}\")\n",
    "print(f\"Model: {chatbot.model_name}\")"
   ]
  },
  {
   "cell_type": "code",
   "execution_count": 15,
   "metadata": {},
   "outputs": [
    {
     "name": "stdout",
     "output_type": "stream",
     "text": [
      "AI Response:\n",
      "# Hello there! 👋\n",
      "\n",
      "I'm your AI assistant specializing in blockchain and cryptocurrency topics. I can help you with:\n",
      "\n",
      "- Understanding blockchain technology fundamentals\n",
      "- Information about various cryptocurrencies and tokens\n",
      "- Explaining concepts like smart contracts, DeFi, and NFTs\n",
      "- Clarifying technical aspects of consensus mechanisms and protocols\n",
      "- Providing educational context about the crypto ecosystem\n",
      "\n",
      "While I don't provide financial advice or price predictions, I'm here to offer clear, educational information about this fascinating technology space.\n",
      "\n",
      "What blockchain or cryptocurrency topic would you like to explore today?\n"
     ]
    }
   ],
   "source": [
    "# Cell 3: Basic usage - send a simple message\n",
    "async def simple_hello():\n",
    "    # Create a simple message\n",
    "    messages = [\n",
    "        {\"role\": \"user\", \"content\": \"Hello! Can you introduce yourself?\"}\n",
    "    ]\n",
    "    \n",
    "    # Optional system message\n",
    "    system_message = \"You are a helpful assistant specializing in blockchain and cryptocurrency information.\"\n",
    "    \n",
    "    # Get response\n",
    "    response = await chatbot.ask(messages, system_msg=system_message)\n",
    "    \n",
    "    return response\n",
    "\n",
    "# Run the async function and print the result\n",
    "response = await simple_hello()\n",
    "print(\"AI Response:\")\n",
    "print(response)"
   ]
  },
  {
   "cell_type": "code",
   "execution_count": 16,
   "metadata": {},
   "outputs": [
    {
     "name": "stdout",
     "output_type": "stream",
     "text": [
      "First response:\n",
      "# DeFi Explained\n",
      "\n",
      "DeFi (Decentralized Finance) is a blockchain-based financial ecosystem that operates without traditional intermediaries like banks or brokerages.\n",
      "\n",
      "## Why It's Important:\n",
      "\n",
      "1. **Financial Inclusion**: Provides access to financial services for the unbanked/underbanked\n",
      "2. **Transparency**: All transactions are verifiable on public blockchains\n",
      "3. **Permissionless**: Anyone with internet access can participate\n",
      "4. **Composability**: DeFi protocols can be combined like \"money legos\"\n",
      "5. **Innovation**: Enables novel financial products like flash loans and yield farming\n",
      "6. **Reduced Costs**: Eliminates many middleman fees\n",
      "\n",
      "DeFi represents a significant shift from centralized financial systems toward more open, accessible financial infrastructure, though it still faces challenges with security, scalability, and regulation.\n",
      "\n",
      "Second response (with context):\n",
      "# Top 3 DeFi Protocols\n",
      "\n",
      "1. **Uniswap**\n",
      "   - Decentralized exchange (DEX)\n",
      "   - Pioneered automated market makers (AMMs)\n",
      "   - ~$3-4B in TVL (Total Value Locked)\n",
      "\n",
      "2. **Aave**\n",
      "   - Leading lending protocol\n",
      "   - Offers variable/stable interest rates\n",
      "   - Flash loans and multiple asset markets\n",
      "   - ~$4-5B in TVL\n",
      "\n",
      "3. **MakerDAO**\n",
      "   - Issues DAI stablecoin backed by collateral\n",
      "   - First major DeFi lending platform\n",
      "   - Governed by MKR token holders\n",
      "   - ~$7-8B in TVL\n",
      "\n",
      "Rankings fluctuate based on market conditions and metrics used (TVL, user activity, volume).\n"
     ]
    }
   ],
   "source": [
    "# Cell 4: Using Message objects and maintaining conversation\n",
    "from spoon_ai.chat import Memory  # Import Memory class\n",
    "\n",
    "async def conversation_demo():\n",
    "    # Initialize Memory\n",
    "    memory = Memory()\n",
    "    \n",
    "    # System instruction\n",
    "    system_message = \"You are a cryptocurrency trading assistant. Be concise and informative.\"\n",
    "    \n",
    "    # First user message\n",
    "    user_message = Message(role=\"user\", content=\"What is DeFi and why is it important?\")\n",
    "    memory.add_message(user_message)\n",
    "    \n",
    "    # Get first response\n",
    "    response = await chatbot.ask(memory.get_messages(), system_msg=system_message)\n",
    "    print(\"First response:\")\n",
    "    print(response)\n",
    "    \n",
    "    # Add assistant's response to memory\n",
    "    assistant_message = Message(role=\"assistant\", content=response)\n",
    "    memory.add_message(assistant_message)\n",
    "    \n",
    "    # Second user message - continuing the conversation\n",
    "    follow_up = Message(role=\"user\", content=\"What are the top 3 DeFi protocols?\")\n",
    "    memory.add_message(follow_up)\n",
    "    \n",
    "    # Get second response (with conversation history)\n",
    "    response2 = await chatbot.ask(memory.get_messages(), system_msg=system_message)\n",
    "    print(\"\\nSecond response (with context):\")\n",
    "    print(response2)\n",
    "    \n",
    "    return memory.get_messages()\n",
    "\n",
    "# Run the conversation\n",
    "conversation = await conversation_demo()"
   ]
  },
  {
   "cell_type": "code",
   "execution_count": null,
   "metadata": {},
   "outputs": [],
   "source": []
  }
 ],
 "metadata": {
  "kernelspec": {
   "display_name": "backend",
   "language": "python",
   "name": "python3"
  },
  "language_info": {
   "codemirror_mode": {
    "name": "ipython",
    "version": 3
   },
   "file_extension": ".py",
   "mimetype": "text/x-python",
   "name": "python",
   "nbconvert_exporter": "python",
   "pygments_lexer": "ipython3",
   "version": "3.12.0"
  }
 },
 "nbformat": 4,
 "nbformat_minor": 2
}

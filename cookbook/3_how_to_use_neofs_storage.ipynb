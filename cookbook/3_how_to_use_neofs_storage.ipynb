{
 "cells": [
  {
   "cell_type": "markdown",
   "metadata": {},
   "source": [
    "## What is NeoFS?\n",
    "\n",
    "NeoFS is a distributed object storage service within the Neo blockchain ecosystem. It's a decentralized storage network that allows users to store and share data without relying on centralized service providers. NeoFS has the following features:\n",
    "\n",
    "1. **Decentralized Storage**: Data is distributed across network nodes with no single point of failure.\n",
    "2. **Data Ownership**: Users maintain complete control over their data.\n",
    "3. **Blockchain Integration**: Tightly integrated with the Neo blockchain, providing security and auditability.\n",
    "4. **Flexible Access Control**: Offers fine-grained access control policies.\n",
    "5. **Data Integrity**: Uses cryptographic techniques to ensure data integrity and authenticity.\n",
    "\n",
    "In this tutorial, we'll learn how to interact with NeoFS using Python, including creating containers, retrieving container lists, and performing signature operations."
   ]
  },
  {
   "cell_type": "markdown",
   "metadata": {},
   "source": []
  },
  {
   "cell_type": "markdown",
   "metadata": {},
   "source": [
    "## Helper Functions\n",
    "\n",
    "First, let's define some helper functions for encryption, encoding, and utility operations."
   ]
  },
  {
   "cell_type": "code",
   "execution_count": 1,
   "metadata": {},
   "outputs": [],
   "source": [
    "# Import necessary libraries\n",
    "import os\n",
    "import json\n",
    "import binascii\n",
    "import httpx\n",
    "from base64 import b64decode, b64encode\n",
    "from hashlib import sha256\n",
    "\n",
    "# These libraries need to be installed: pip install pycryptodome ecdsa base58\n",
    "import base58\n",
    "from Crypto.PublicKey import ECC\n",
    "from Crypto.Hash import RIPEMD160\n",
    "import ecdsa"
   ]
  },
  {
   "cell_type": "code",
   "execution_count": 2,
   "metadata": {},
   "outputs": [],
   "source": [
    "# Functions about cryptographic operations\n",
    "def wif_to_private_key(wif: str) -> bytes:\n",
    "    \"\"\"Convert from WIF format to raw private key\"\"\"\n",
    "    # Step 1: Decode WIF key using Base58\n",
    "    decoded = base58.b58decode(wif)\n",
    "    \n",
    "    # Step 2: Validate the length of decoded data\n",
    "    if len(decoded) != 38:\n",
    "        raise ValueError(\"Invalid WIF length\")\n",
    "    \n",
    "    # First byte is version, last 4 bytes are checksum\n",
    "    # version_byte = decoded[0]  # Typically 0x80 for Bitcoin mainnet\n",
    "    private_key_bytes = decoded[1:-5]  # Extract private key portion\n",
    "    checksum = decoded[-4:]  # Extract checksum portion\n",
    "    \n",
    "    # Step 3: Calculate expected checksum\n",
    "    hash1 = sha256(decoded[:-4]).digest()\n",
    "    hash2 = sha256(hash1).digest()\n",
    "    expected_checksum = hash2[:4]\n",
    "    \n",
    "    # Check if provided checksum matches calculated checksum\n",
    "    if checksum != expected_checksum:\n",
    "        raise ValueError(\"Invalid WIF checksum\")\n",
    "    \n",
    "    return private_key_bytes\n",
    "\n",
    "def hex_to_private_key(hex_str: str) -> bytes:\n",
    "    \"\"\"Convert from hex string to private key bytes\"\"\"\n",
    "    if hex_str.startswith('0x'):\n",
    "        hex_str = hex_str[2:]\n",
    "    return binascii.unhexlify(hex_str)\n",
    "\n",
    "def private_key_to_neo3_public_key_and_address(private_key: bytes) -> (str, str):\n",
    "    \"\"\"Generate NEO3 public key and address from private key\"\"\"\n",
    "    # Construct public key from private key using secp256r1 curve\n",
    "    public_key = ECC.construct(curve='secp256r1', d=int.from_bytes(private_key, 'big')).pointQ\n",
    "    x = public_key.x.to_bytes(32, 'big')\n",
    "    # Choose prefix based on y-coordinate parity (compressed format)\n",
    "    prefix = b'\\x02' if public_key.y % 2 == 0 else b'\\x03'\n",
    "    compressed_public_key = prefix + x\n",
    "    \n",
    "    # Generate verification script\n",
    "    verification_script = b'\\x0c\\x21' + compressed_public_key + b'\\x41\\x56\\xe7\\xb3\\x27'\n",
    "    \n",
    "    # Calculate script hash\n",
    "    ripemd160 = RIPEMD160.new()\n",
    "    ripemd160.update(sha256(verification_script).digest())\n",
    "    script_hash = ripemd160.digest()\n",
    "    \n",
    "    # Generate address (Neo address prefix is 0x35)\n",
    "    address = base58.b58encode_check(b'\\x35' + script_hash).decode('utf-8')\n",
    "    \n",
    "    return compressed_public_key.hex(), address\n",
    "\n",
    "def sign_message(private_key: bytes, message: str | bytes) -> bytes:\n",
    "    \"\"\"Sign a message using private key\"\"\"\n",
    "    assert len(private_key) == 32\n",
    "    if type(message) is str:\n",
    "        message: bytes = bytes.fromhex(message)\n",
    "    pk = ecdsa.SigningKey.from_string(private_key, curve=ecdsa.NIST256p, hashfunc=sha256)\n",
    "    signature: bytes = pk.sign_deterministic(message)\n",
    "    return signature\n",
    "\n",
    "def verify_message_signature(public_key: str | bytes, message: str | bytes, signature: bytes) -> bool:\n",
    "    \"\"\"Verify message signature\"\"\"\n",
    "    if type(public_key) is str:\n",
    "        public_key: bytes = bytes.fromhex(public_key)\n",
    "    assert len(public_key) == 33\n",
    "    assert public_key.startswith(b'\\x02') or public_key.startswith(b'\\x03')\n",
    "    if type(message) is str:\n",
    "        message: bytes = bytes.fromhex(message)\n",
    "    public_key: ecdsa.VerifyingKey = ecdsa.VerifyingKey.from_string(public_key, curve=ecdsa.NIST256p, hashfunc=sha256)\n",
    "    result = public_key.verify(signature, message)\n",
    "    return result"
   ]
  },
  {
   "cell_type": "code",
   "execution_count": 3,
   "metadata": {},
   "outputs": [],
   "source": [
    "# Functions about data format conversions\n",
    "def num2VarInt(num: int) -> str:\n",
    "    \"\"\"Convert a number to variable-length integer hex string representation\"\"\"\n",
    "    if num < 0xfd:\n",
    "        return num2hexstring(num)\n",
    "    elif num <= 0xffff:\n",
    "        # uint16\n",
    "        return \"fd\" + num2hexstring(num, 2, True)\n",
    "    elif num <= 0xffffffff:\n",
    "        # uint32\n",
    "        return \"fe\" + num2hexstring(num, 4, True)\n",
    "    else:\n",
    "        # uint64\n",
    "        return \"ff\" + num2hexstring(num, 8, True)\n",
    "\n",
    "def num2hexstring(num: int, size: int = 1, little_endian=False) -> str:\n",
    "    \"\"\"Convert a number to a hex string\"\"\"\n",
    "    if not isinstance(num, int):\n",
    "        raise TypeError(f\"num2hexstring expected a number but got {type(num)}.\")\n",
    "    if num < 0:\n",
    "        raise ValueError(f\"num2hexstring expected a positive integer but got {num}.\")\n",
    "    if size % 1 != 0:\n",
    "        raise ValueError(f\"num2hexstring expected a positive integer but got {num}.\")\n",
    "    if num > 2 ** 53 - 1:\n",
    "        raise ValueError(f\"num2hexstring expected a safe integer but got {num}.\")\n",
    "    \n",
    "    size *= 2\n",
    "    hexstring = hex(num)[2:]\n",
    "    hexstring = hexstring.zfill(size)\n",
    "    \n",
    "    if little_endian:\n",
    "        hexstring = reverse_hex(hexstring)\n",
    "    return hexstring\n",
    "\n",
    "def reverse_hex(hexstring: str) -> str:\n",
    "    \"\"\"Reverse a hex string (reverse by byte pairs)\"\"\"\n",
    "    return ''.join(reversed([hexstring[i:i + 2] for i in range(0, len(hexstring), 2)]))"
   ]
  },
  {
   "cell_type": "markdown",
   "metadata": {},
   "source": [
    "## Key Configuration\n",
    "\n",
    "In NeoFS, all operations require signing with a Neo wallet's private key to verify identity. Here, we'll start with a WIF (Wallet Import Format) private key and obtain the corresponding public key and address.\n",
    "\n",
    "**Note**: Always protect your private key and never expose it in public or insecure environments."
   ]
  },
  {
   "cell_type": "code",
   "execution_count": null,
   "metadata": {},
   "outputs": [],
   "source": [
    "# Set up private key - Replace with your own private key in actual use\n",
    "PRIVATE_KEY_WIF = \"\"  # Enter your WIF format private key here\n",
    "\n",
    "# Convert from WIF format to raw private key\n",
    "private_key = wif_to_private_key(PRIVATE_KEY_WIF)\n",
    "\n",
    "# Get corresponding public key and NEO3 address\n",
    "public_key, address = private_key_to_neo3_public_key_and_address(private_key)\n",
    "\n",
    "# Set up the base URL for the NeoFS gateway\n",
    "BASE_URL = 'https://rest.t5.fs.neo.org/v1/'  # This is a testnet URL, use the appropriate URL for production\n",
    "\n",
    "# Create an HTTP client\n",
    "httpx_client = httpx.Client(base_url=BASE_URL, headers={\"Content-Type\": \"application/json\"})"
   ]
  },
  {
   "cell_type": "markdown",
   "metadata": {},
   "source": [
    "## Example 1: Creating and Retrieving Containers\n",
    "\n",
    "In NeoFS, all data is stored in containers. Containers are similar to \"buckets\" or \"folders\" in traditional cloud storage, defining storage policies and access control rules for data.\n",
    "\n",
    "Below we'll demonstrate how to create new containers and then query containers owned by the current user."
   ]
  },
  {
   "cell_type": "markdown",
   "metadata": {},
   "source": [
    "### 1.1 Creating an Authentication Token\n",
    "\n",
    "Before creating a container, we need to obtain an authentication token. This is how permission control is implemented in NeoFS."
   ]
  },
  {
   "cell_type": "code",
   "execution_count": 5,
   "metadata": {},
   "outputs": [
    {
     "name": "stdout",
     "output_type": "stream",
     "text": [
      "Authentication token created successfully:\n",
      "[{'name': 'my-bearer-token', 'token': 'ChAKBAgCEBAaCAgBEAEiAggDEhsKGTWI/addGEaZ1n76HSiboWqi46/LlRqeHN4aCAiu9QEYnqcBIhsKGTWlt1FUS1bf0jLg6iuODJpHoj+YsfP3F7k=', 'type': 'object', 'decoded_token': b'\\n\\x10\\n\\x04\\x08\\x02\\x10\\x10\\x1a\\x08\\x08\\x01\\x10\\x01\"\\x02\\x08\\x03\\x12\\x1b\\n\\x195\\x88\\xfd\\xa7]\\x18F\\x99\\xd6~\\xfa\\x1d(\\x9b\\xa1j\\xa2\\xe3\\xaf\\xcb\\x95\\x1a\\x9e\\x1c\\xde\\x1a\\x08\\x08\\xae\\xf5\\x01\\x18\\x9e\\xa7\\x01\"\\x1b\\n\\x195\\xa5\\xb7QTKV\\xdf\\xd22\\xe0\\xea+\\x8e\\x0c\\x9aG\\xa2?\\x98\\xb1\\xf3\\xf7\\x17\\xb9', 'signed_token': '23475285071e89a4d82a88848838183d116e5910e114cffb6dbf091fcdb73bdb0681a72357f13386434eb08cb59adf5c141beac3138bf0b009fab1c91e80501a'}, {'name': 'my token', 'token': 'ChDj6qKhUAJFqrEN7AmVdCqTEhsKGTWlt1FUS1bf0jLg6iuODJpHoj+YsfP3F7kaCAiu9QEYnqcBIiEDLFyfz0GPl/AJ9eWPkeNJiOicdIStmheJKp7KHRlBJvYyBAgBEAE=', 'type': 'container', 'decoded_token': b'\\n\\x10\\xe3\\xea\\xa2\\xa1P\\x02E\\xaa\\xb1\\r\\xec\\t\\x95t*\\x93\\x12\\x1b\\n\\x195\\xa5\\xb7QTKV\\xdf\\xd22\\xe0\\xea+\\x8e\\x0c\\x9aG\\xa2?\\x98\\xb1\\xf3\\xf7\\x17\\xb9\\x1a\\x08\\x08\\xae\\xf5\\x01\\x18\\x9e\\xa7\\x01\"!\\x03,\\\\\\x9f\\xcfA\\x8f\\x97\\xf0\\t\\xf5\\xe5\\x8f\\x91\\xe3I\\x88\\xe8\\x9ct\\x84\\xad\\x9a\\x17\\x89*\\x9e\\xca\\x1d\\x19A&\\xf62\\x04\\x08\\x01\\x10\\x01', 'signed_token': 'cb3e40cc7c524214b4266cc8a68617aa8824ca04211766b3ad4c967e4301b743dcfd4d33e7c4128e86f71d71e303eb2c73cb55119bec87034ad399d852949182'}]\n"
     ]
    }
   ],
   "source": [
    "# Set up authentication request headers\n",
    "auth_header = {\n",
    "    'X-Bearer-Owner-Id': address,       # Token owner's address\n",
    "    'X-Bearer-Lifetime': \"10000\",       # Token validity period (seconds)\n",
    "    'X-Bearer-For-All-Users': \"false\",  # Whether valid for all users\n",
    "}\n",
    "\n",
    "# Set up authentication content - Define token permissions\n",
    "auth_content = [\n",
    "    {\"name\":\"my-bearer-token\",\"object\":[{\"action\":\"ALLOW\",\"filters\":[],\"operation\":\"GET\",\"targets\":[{\"keys\":[],\"role\":\"OTHERS\"}]}]},\n",
    "    {\"container\":{\"verb\":\"PUT\"},\"name\":\"my token\"}\n",
    "]\n",
    "\n",
    "# Send authentication request\n",
    "try:\n",
    "    auth_resp = httpx_client.post('auth', \n",
    "                                  headers=auth_header, \n",
    "                                  content=json.dumps(auth_content)).json()\n",
    "    \n",
    "    # Decode and sign tokens\n",
    "    for t in auth_resp:\n",
    "        t[\"decoded_token\"] = b64decode(t[\"token\"])\n",
    "    \n",
    "    for t in auth_resp:\n",
    "        t[\"signed_token\"] = sign_message(private_key, t[\"decoded_token\"]).hex()\n",
    "    \n",
    "    # Verify signatures\n",
    "    for t in auth_resp:\n",
    "        assert verify_message_signature(public_key, t[\"decoded_token\"], bytes.fromhex(t[\"signed_token\"]))\n",
    "    \n",
    "    print(\"Authentication token created successfully:\")\n",
    "    print(auth_resp)\n",
    "except Exception as e:\n",
    "    print(f\"Failed to create authentication token: {e}\")"
   ]
  },
  {
   "cell_type": "markdown",
   "metadata": {},
   "source": [
    "### 1.2 Creating a New Container\n",
    "\n",
    "Now that we have an authentication token, we can use it to create a new container. Container creation requires a signature, so we need to prepare the signature data first."
   ]
  },
  {
   "cell_type": "code",
   "execution_count": 6,
   "metadata": {},
   "outputs": [
    {
     "name": "stdout",
     "output_type": "stream",
     "text": [
      "Container creation response: {'message': \"create container: invalid container name: invalid fragment: 'MyFirstContainer'\", 'type': 'GW'}\n",
      "\n",
      "Updated container list: {'containers': [{'attributes': [{'key': 'Timestamp', 'value': '1744392652'}, {'key': 'Name', 'value': 'hecate3'}, {'key': '__NEOFS__NAME', 'value': 'hecate3'}, {'key': '__NEOFS__ZONE', 'value': 'container'}], 'basicAcl': '1fbfbfff', 'cannedAcl': 'public-read-write', 'containerId': '4HJCDDHoUsxQpCvZJ2jDuDsBLac4jzdWTv5nCbpbRtE2', 'containerName': 'hecate3', 'ownerId': 'Nb2CHYY5wTh2ac58mTue5S3wpG6bQv5hSY', 'placementPolicy': 'REP 3', 'version': 'v2.16'}, {'attributes': [{'key': 'Timestamp', 'value': '1679564978'}, {'key': 'Name', 'value': 'Hecate2'}], 'basicAcl': 'fbf8cff', 'cannedAcl': 'eacl-public-read', 'containerId': '5B7BWEAk4fheTVtjPqCHV5tBwEMH6F54XkiCP2ErUsq9', 'containerName': 'Hecate2', 'ownerId': 'Nb2CHYY5wTh2ac58mTue5S3wpG6bQv5hSY', 'placementPolicy': 'REP 2 IN X\\nCBF 2\\nSELECT 2 FROM * AS X', 'version': 'v2.13'}, {'attributes': [{'key': 'Timestamp', 'value': '1744392536'}, {'key': 'Name', 'value': 'hecate2-test'}, {'key': '__NEOFS__NAME', 'value': 'hecate2-test'}, {'key': '__NEOFS__ZONE', 'value': 'container'}], 'basicAcl': '1fbfbfff', 'cannedAcl': 'public-read-write', 'containerId': '73nepTy4jn1HX1XH17CMkkahP7swA788TwcdZwUEUuc8', 'containerName': 'hecate2-test', 'ownerId': 'Nb2CHYY5wTh2ac58mTue5S3wpG6bQv5hSY', 'placementPolicy': 'REP 3', 'version': 'v2.16'}, {'attributes': [{'key': 'Timestamp', 'value': '1742376970'}, {'key': 'Name', 'value': 'hecate2'}, {'key': '__NEOFS__NAME', 'value': 'hecate2'}, {'key': '__NEOFS__ZONE', 'value': 'container'}], 'basicAcl': '1fbfbfff', 'cannedAcl': 'public-read-write', 'containerId': 'B2Z24C4hXrsT2rWimeMeqEXFkrvpcSuLpasPQfEosvgu', 'containerName': 'hecate2', 'ownerId': 'Nb2CHYY5wTh2ac58mTue5S3wpG6bQv5hSY', 'placementPolicy': 'REP 3', 'version': 'v2.16'}, {'attributes': [{'key': 'Timestamp', 'value': '1744385933'}, {'key': 'Name', 'value': 'my-text-container'}, {'key': '__NEOFS__NAME', 'value': 'my-text-container'}, {'key': '__NEOFS__ZONE', 'value': 'container'}], 'basicAcl': '1fbfbfff', 'cannedAcl': 'public-read-write', 'containerId': 'GoTLSksHjuc7DyQpudwCR6CGTXd9FyynwrM5TnraGshp', 'containerName': 'my-text-container', 'ownerId': 'Nb2CHYY5wTh2ac58mTue5S3wpG6bQv5hSY', 'placementPolicy': 'REP 3', 'version': 'v2.16'}], 'size': 5}\n"
     ]
    }
   ],
   "source": [
    "# Use the second token (for container creation)\n",
    "msg = auth_resp[1]['token']\n",
    "\n",
    "# Generate random salt (for increased security)\n",
    "random_salt = os.urandom(16).hex()  # Generate random salt\n",
    "\n",
    "# Prepare parameters and serialize\n",
    "parameter_hex_string = (random_salt + msg).encode().hex()\n",
    "assert len(parameter_hex_string) % 2 == 0  # Ensure even length\n",
    "length_hex = num2VarInt(len(parameter_hex_string) // 2)\n",
    "concatenated_string = length_hex + parameter_hex_string\n",
    "serialized_transaction = '010001f0' + concatenated_string + '0000'  # Specific format for transaction serialization\n",
    "\n",
    "# Sign transaction data\n",
    "signature = sign_message(private_key, serialized_transaction)\n",
    "assert verify_message_signature(public_key, serialized_transaction, signature)\n",
    "signature_hex_str = signature.hex()\n",
    "\n",
    "# Set request headers\n",
    "httpx_client.headers.update({\"Authorization\": f\"Bearer {auth_resp[1]['token']}\"})\n",
    "bearer_header = {\n",
    "    'X-Bearer-Owner-Id': address,                     # Owner address\n",
    "    'X-Bearer-Signature': signature_hex_str + random_salt,  # Signature + random salt\n",
    "    'X-Bearer-Signature-Key': public_key,              # Public key\n",
    "}\n",
    "\n",
    "# Create container\n",
    "try:\n",
    "    create_container_resp = httpx_client.put(\n",
    "        'containers?walletConnect=true&name-scope-global=true',  # API endpoint and parameters\n",
    "        headers=bearer_header,\n",
    "        content=json.dumps(\n",
    "            {\n",
    "                \"basicAcl\": \"public-read-write\",     # Access control level\n",
    "                \"containerName\": \"MyFirstContainer\",  # Container name\n",
    "                \"placementPolicy\": \"REP 3\"           # Replication policy: maintain 3 copies\n",
    "            }\n",
    "        )\n",
    "    )\n",
    "    print(f\"Container creation response: {create_container_resp.json()}\")\n",
    "    \n",
    "    # Retrieve container list again to see newly created container\n",
    "    list_container_resp = httpx_client.get(f'containers?ownerId={address}')\n",
    "    print(f\"\\nUpdated container list: {list_container_resp.json()}\")\n",
    "    \n",
    "except Exception as e:\n",
    "    print(f\"Failed to create container: {e}\")"
   ]
  },
  {
   "cell_type": "markdown",
   "metadata": {},
   "source": [
    "### 1.3 Retrieving the Current User's Container List\n",
    "\n",
    "Now that we've created a container, let's see how to retrieve a list of all containers owned by the current user:"
   ]
  },
  {
   "cell_type": "code",
   "execution_count": 7,
   "metadata": {},
   "outputs": [
    {
     "name": "stdout",
     "output_type": "stream",
     "text": [
      "My container list: {'containers': [{'attributes': [{'key': 'Timestamp', 'value': '1744392652'}, {'key': 'Name', 'value': 'hecate3'}, {'key': '__NEOFS__NAME', 'value': 'hecate3'}, {'key': '__NEOFS__ZONE', 'value': 'container'}], 'basicAcl': '1fbfbfff', 'cannedAcl': 'public-read-write', 'containerId': '4HJCDDHoUsxQpCvZJ2jDuDsBLac4jzdWTv5nCbpbRtE2', 'containerName': 'hecate3', 'ownerId': 'Nb2CHYY5wTh2ac58mTue5S3wpG6bQv5hSY', 'placementPolicy': 'REP 3', 'version': 'v2.16'}, {'attributes': [{'key': 'Timestamp', 'value': '1679564978'}, {'key': 'Name', 'value': 'Hecate2'}], 'basicAcl': 'fbf8cff', 'cannedAcl': 'eacl-public-read', 'containerId': '5B7BWEAk4fheTVtjPqCHV5tBwEMH6F54XkiCP2ErUsq9', 'containerName': 'Hecate2', 'ownerId': 'Nb2CHYY5wTh2ac58mTue5S3wpG6bQv5hSY', 'placementPolicy': 'REP 2 IN X\\nCBF 2\\nSELECT 2 FROM * AS X', 'version': 'v2.13'}, {'attributes': [{'key': 'Timestamp', 'value': '1744392536'}, {'key': 'Name', 'value': 'hecate2-test'}, {'key': '__NEOFS__NAME', 'value': 'hecate2-test'}, {'key': '__NEOFS__ZONE', 'value': 'container'}], 'basicAcl': '1fbfbfff', 'cannedAcl': 'public-read-write', 'containerId': '73nepTy4jn1HX1XH17CMkkahP7swA788TwcdZwUEUuc8', 'containerName': 'hecate2-test', 'ownerId': 'Nb2CHYY5wTh2ac58mTue5S3wpG6bQv5hSY', 'placementPolicy': 'REP 3', 'version': 'v2.16'}, {'attributes': [{'key': 'Timestamp', 'value': '1742376970'}, {'key': 'Name', 'value': 'hecate2'}, {'key': '__NEOFS__NAME', 'value': 'hecate2'}, {'key': '__NEOFS__ZONE', 'value': 'container'}], 'basicAcl': '1fbfbfff', 'cannedAcl': 'public-read-write', 'containerId': 'B2Z24C4hXrsT2rWimeMeqEXFkrvpcSuLpasPQfEosvgu', 'containerName': 'hecate2', 'ownerId': 'Nb2CHYY5wTh2ac58mTue5S3wpG6bQv5hSY', 'placementPolicy': 'REP 3', 'version': 'v2.16'}, {'attributes': [{'key': 'Timestamp', 'value': '1744385933'}, {'key': 'Name', 'value': 'my-text-container'}, {'key': '__NEOFS__NAME', 'value': 'my-text-container'}, {'key': '__NEOFS__ZONE', 'value': 'container'}], 'basicAcl': '1fbfbfff', 'cannedAcl': 'public-read-write', 'containerId': 'GoTLSksHjuc7DyQpudwCR6CGTXd9FyynwrM5TnraGshp', 'containerName': 'my-text-container', 'ownerId': 'Nb2CHYY5wTh2ac58mTue5S3wpG6bQv5hSY', 'placementPolicy': 'REP 3', 'version': 'v2.16'}], 'size': 5}\n"
     ]
    }
   ],
   "source": [
    "# Get all containers owned by current user\n",
    "try:\n",
    "    my_containers = httpx_client.get(f'containers?ownerId={address}').json()\n",
    "    print(f'My container list: {my_containers}')\n",
    "except Exception as e:\n",
    "    print(f\"Failed to retrieve container list: {e}\")"
   ]
  },
  {
   "cell_type": "markdown",
   "metadata": {},
   "source": [
    "## Example 2: Signature Operations\n",
    "\n",
    "In NeoFS, many operations require signatures to verify identity and authorization. The example below demonstrates how to sign a simple message (\"hello\"). This can be used as a test to verify that your key setup is correct, and to understand the signature mechanism in NeoFS."
   ]
  },
  {
   "cell_type": "code",
   "execution_count": 8,
   "metadata": {},
   "outputs": [
    {
     "name": "stdout",
     "output_type": "stream",
     "text": [
      "Public key: 02878528d4e2e39cedf20d9dbc9e5a031afc60cb9c474348ec893834c7921fb0b9\n",
      "Address: Nb2CHYY5wTh2ac58mTue5S3wpG6bQv5hSY\n",
      "\n",
      "Serialized transaction: 010001f025326236326632346337376563333062616337313662313136363531623964323368656c6c6f0000\n",
      "\n",
      "Random salt: 2b62f24c77ec30bac716b116651b9d23\n",
      "Signature: aaa9d9979a4148822225d9f047e3457d23233bc3a0252c8517c83bc0a429f1233f2192d64c5774c1847030a6cd1f41e629e57e1e66e03d9149a8c7c703a6fe4c\n"
     ]
    }
   ],
   "source": [
    "# Display public key and address\n",
    "print(f\"Public key: {public_key}\")\n",
    "print(f\"Address: {address}\")\n",
    "print()\n",
    "\n",
    "# Message to sign\n",
    "msg = 'hello'\n",
    "\n",
    "# Use a fixed random salt for verification and testing\n",
    "# In production, use os.urandom(16).hex() to generate a random salt\n",
    "random_salt = '2b62f24c77ec30bac716b116651b9d23'  \n",
    "\n",
    "# Prepare parameters and serialize - similar to container creation process\n",
    "parameter_hex_string = (random_salt + msg).encode().hex()\n",
    "assert len(parameter_hex_string) % 2 == 0\n",
    "length_hex = num2VarInt(len(parameter_hex_string) // 2)\n",
    "concatenated_string = length_hex + parameter_hex_string\n",
    "serialized_transaction = '010001f0' + concatenated_string + '0000'\n",
    "print(f\"Serialized transaction: {serialized_transaction}\")\n",
    "print()\n",
    "\n",
    "# Sign transaction data\n",
    "signature = sign_message(private_key, serialized_transaction)\n",
    "\n",
    "# Output results\n",
    "print(f\"Random salt: {random_salt}\")\n",
    "print(f\"Signature: {signature.hex()}\")"
   ]
  },
  {
   "cell_type": "markdown",
   "metadata": {},
   "source": [
    "## Additional NeoFS Operations\n",
    "\n",
    "NeoFS provides many other functionalities, including but not limited to:\n",
    "\n",
    "1. **Upload Objects**: Upload files to containers\n",
    "2. **Download Objects**: Retrieve files from containers\n",
    "3. **List Objects**: Get a list of files in a container\n",
    "4. **Delete Objects**: Remove files from a container\n",
    "5. **Set ACL**: Configure access control lists\n",
    "6. **Create Extended ACL**: More complex access control policies\n",
    "\n",
    "These operations follow a similar pattern: create an authentication token, sign the request, then perform the operation.\n",
    "As you deepen your understanding of NeoFS, you can explore more advanced features such as setting up complex access control policies, managing large file uploads and downloads, implementing encrypted storage, and more."
   ]
  }
 ],
 "metadata": {
  "kernelspec": {
   "display_name": "Python 3",
   "language": "python",
   "name": "python3"
  },
  "language_info": {
   "codemirror_mode": {
    "name": "ipython",
    "version": 3
   },
   "file_extension": ".py",
   "mimetype": "text/x-python",
   "name": "python",
   "nbconvert_exporter": "python",
   "pygments_lexer": "ipython3",
   "version": "3.10.12"
  }
 },
 "nbformat": 4,
 "nbformat_minor": 4
}

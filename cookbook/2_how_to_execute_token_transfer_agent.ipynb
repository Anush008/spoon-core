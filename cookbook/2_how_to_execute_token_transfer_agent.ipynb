{
 "cells": [
  {
   "cell_type": "code",
   "execution_count": 3,
   "metadata": {},
   "outputs": [
    {
     "name": "stderr",
     "output_type": "stream",
     "text": [
      "/home/zhangzhihao/miniconda3/envs/backend/lib/python3.12/site-packages/pinecone/data/index.py:1: TqdmWarning: IProgress not found. Please update jupyter and ipywidgets. See https://ipywidgets.readthedocs.io/en/stable/user_install.html\n",
      "  from tqdm.autonotebook import tqdm\n"
     ]
    }
   ],
   "source": [
    "# Import necessary modules\n",
    "from typing import List\n",
    "from pydantic import Field\n",
    "\n",
    "# Import SpoonAI components\n",
    "from spoon_ai.agents.toolcall import ToolCallAgent # Base class for agents using tools\n",
    "from spoon_ai.chat import ChatBot\n",
    "from spoon_ai.tools import ToolManager, Terminate # General tool management and termination tool\n",
    "from spoon_ai.tools.token_execute.token_transfer import TokenTransfer # The specific tool for this agent\n"
   ]
  },
  {
   "cell_type": "code",
   "execution_count": 4,
   "metadata": {},
   "outputs": [],
   "source": [
    "# --- Define Prompts ---\n",
    "\n",
    "# System prompt defining the agent's role and capabilities\n",
    "AGENT_SYSTEM_PROMPT = \"\"\"You are a specialized AI agent designed to assist with executing token transfers on the blockchain.\n",
    "Your primary function is to understand user requests for transferring tokens and utilize the 'token_transfer' tool to fulfill these requests.\n",
    "Always confirm the details (token address, amount, recipient address) before proceeding.\n",
    "You must use the available tools to answer the query. Stick to the following process:\n",
    "1. Thought: Briefly reason about the user query and the plan to execute the tool.\n",
    "2. Action: Determine the action to take using the tools provided. The action must be represented as a JSON object with 'action' and 'action_input' keys.\n",
    "3. Observation: This will be the result of the action.\n",
    "4. Final Answer: This is the final response to the user after the process is complete.\n",
    "Repeat the Thought-Action-Observation cycle until you can provide the Final Answer.\n",
    "Use the 'terminate' tool when the task is fully completed.\"\"\"\n",
    "\n",
    "# Prompt to guide the next step in a multi-step process (if the base class uses it)\n",
    "# Note: The {agent_scratchpad} placeholder is common in ReAct-style prompts\n",
    "AGENT_NEXT_STEP_PROMPT = \"\"\"Based on the previous actions and observations, determine the next step.\n",
    "If the token transfer is complete and confirmed, use the 'terminate' tool.\n",
    "Otherwise, formulate the next Thought and Action.\n",
    "{agent_scratchpad}\"\"\"\n"
   ]
  },
  {
   "cell_type": "code",
   "execution_count": 5,
   "metadata": {},
   "outputs": [],
   "source": [
    "# --- Define the Agent Class ---\n",
    "\n",
    "class TokenTransferAgent(ToolCallAgent):\n",
    "    \"\"\"\n",
    "    An AI agent specifically designed to handle token transfer requests \n",
    "    by utilizing the TokenTransfer tool. It follows a ReAct-like pattern \n",
    "    (Thought-Action-Observation) guided by system prompts.\n",
    "    \"\"\"\n",
    "    \n",
    "    name: str = \"token_transfer_agent\"\n",
    "    description: str = \"An agent capable of executing token transfers using the TokenTransfer tool.\"\n",
    "    \n",
    "    # --- Core Agent Configuration ---\n",
    "    system_prompt: str = AGENT_SYSTEM_PROMPT\n",
    "    next_step_prompt: str = AGENT_NEXT_STEP_PROMPT # Used if the base class implements ReAct logic\n",
    "    max_steps: int = 5 # Limit the number of interaction steps\n",
    "    tool_choice: str = \"auto\" # Let the LLM decide when to use the tool\n",
    "    \n",
    "    # --- LLM and Tools Setup ---\n",
    "    # Configure the LLM. You might want to customize the ChatBot instance further.\n",
    "    llm: ChatBot = Field(default_factory=lambda: ChatBot()) \n",
    "\n",
    "    # Available tools for this agent: TokenTransfer and Terminate\n",
    "    available_tools: ToolManager = Field(\n",
    "        default_factory=lambda: ToolManager([\n",
    "            TokenTransfer(), \n",
    "            Terminate()\n",
    "        ])\n",
    "    )\n",
    "    \n",
    "    # Specify tools that have special handling or significance (like termination)\n",
    "    special_tools: List[str] = Field(default=[\"terminate\"])\n",
    "\n",
    "    # --- Agent Logic (Leveraging Base Class) ---\n",
    "    # This agent primarily relies on the logic inherited from ToolCallAgent \n",
    "    # for the ReAct loop (Thought-Action-Observation) and tool handling.\n",
    "    # You can override methods from ToolCallAgent here if specific customization \n",
    "    # beyond prompt engineering and tool selection is needed.\n",
    "\n",
    "    # Example of a method you *could* override (but may not need to):\n",
    "    # def _parse_output(self, output: str) -> dict:\n",
    "    #     # Custom logic to parse the LLM's output if the default parsing isn't suitable\n",
    "    #     pass"
   ]
  },
  {
   "cell_type": "code",
   "execution_count": 10,
   "metadata": {},
   "outputs": [],
   "source": [
    "! export RPC_URL=YOUR_RPC_URL"
   ]
  },
  {
   "cell_type": "code",
   "execution_count": 11,
   "metadata": {},
   "outputs": [],
   "source": [
    "! export PRIVATE_KEY=YOUR_PRIVATE_KEY"
   ]
  },
  {
   "cell_type": "code",
   "execution_count": 12,
   "metadata": {},
   "outputs": [
    {
     "name": "stdout",
     "output_type": "stream",
     "text": [
      "Ensure environment variables (API keys, RPC_URL, PRIVATE_KEY, etc.) are set before running.\n",
      "--- Starting Token Transfer Agent Test ---\n",
      "ERROR: Missing required environment variables for execution: RPC_URL, PRIVATE_KEY\n",
      "Agent execution will likely fail.\n"
     ]
    },
    {
     "ename": "AttributeError",
     "evalue": "'str' object has no attribute 'name'",
     "output_type": "error",
     "traceback": [
      "\u001b[31m---------------------------------------------------------------------------\u001b[39m",
      "\u001b[31mAttributeError\u001b[39m                            Traceback (most recent call last)",
      "\u001b[36mCell\u001b[39m\u001b[36m \u001b[39m\u001b[32mIn[12]\u001b[39m\u001b[32m, line 60\u001b[39m\n\u001b[32m     58\u001b[39m \u001b[38;5;66;03m# Run the asynchronous test function\u001b[39;00m\n\u001b[32m     59\u001b[39m \u001b[38;5;28mprint\u001b[39m(\u001b[33m\"\u001b[39m\u001b[33mEnsure environment variables (API keys, RPC_URL, PRIVATE_KEY, etc.) are set before running.\u001b[39m\u001b[33m\"\u001b[39m)\n\u001b[32m---> \u001b[39m\u001b[32m60\u001b[39m \u001b[43masyncio\u001b[49m\u001b[43m.\u001b[49m\u001b[43mrun\u001b[49m\u001b[43m(\u001b[49m\u001b[43mrun_agent_test\u001b[49m\u001b[43m(\u001b[49m\u001b[43m)\u001b[49m\u001b[43m)\u001b[49m\n\u001b[32m     61\u001b[39m \u001b[38;5;28mprint\u001b[39m(\u001b[33m\"\u001b[39m\u001b[38;5;130;01m\\n\u001b[39;00m\u001b[33m(Test run is commented out by default. Uncomment the last line in the script to execute.)\u001b[39m\u001b[33m\"\u001b[39m) \n",
      "\u001b[36mFile \u001b[39m\u001b[32m~/miniconda3/envs/backend/lib/python3.12/site-packages/nest_asyncio.py:30\u001b[39m, in \u001b[36m_patch_asyncio.<locals>.run\u001b[39m\u001b[34m(main, debug)\u001b[39m\n\u001b[32m     28\u001b[39m task = asyncio.ensure_future(main)\n\u001b[32m     29\u001b[39m \u001b[38;5;28;01mtry\u001b[39;00m:\n\u001b[32m---> \u001b[39m\u001b[32m30\u001b[39m     \u001b[38;5;28;01mreturn\u001b[39;00m \u001b[43mloop\u001b[49m\u001b[43m.\u001b[49m\u001b[43mrun_until_complete\u001b[49m\u001b[43m(\u001b[49m\u001b[43mtask\u001b[49m\u001b[43m)\u001b[49m\n\u001b[32m     31\u001b[39m \u001b[38;5;28;01mfinally\u001b[39;00m:\n\u001b[32m     32\u001b[39m     \u001b[38;5;28;01mif\u001b[39;00m \u001b[38;5;129;01mnot\u001b[39;00m task.done():\n",
      "\u001b[36mFile \u001b[39m\u001b[32m~/miniconda3/envs/backend/lib/python3.12/site-packages/nest_asyncio.py:98\u001b[39m, in \u001b[36m_patch_loop.<locals>.run_until_complete\u001b[39m\u001b[34m(self, future)\u001b[39m\n\u001b[32m     95\u001b[39m \u001b[38;5;28;01mif\u001b[39;00m \u001b[38;5;129;01mnot\u001b[39;00m f.done():\n\u001b[32m     96\u001b[39m     \u001b[38;5;28;01mraise\u001b[39;00m \u001b[38;5;167;01mRuntimeError\u001b[39;00m(\n\u001b[32m     97\u001b[39m         \u001b[33m'\u001b[39m\u001b[33mEvent loop stopped before Future completed.\u001b[39m\u001b[33m'\u001b[39m)\n\u001b[32m---> \u001b[39m\u001b[32m98\u001b[39m \u001b[38;5;28;01mreturn\u001b[39;00m \u001b[43mf\u001b[49m\u001b[43m.\u001b[49m\u001b[43mresult\u001b[49m\u001b[43m(\u001b[49m\u001b[43m)\u001b[49m\n",
      "\u001b[36mFile \u001b[39m\u001b[32m~/miniconda3/envs/backend/lib/python3.12/asyncio/futures.py:203\u001b[39m, in \u001b[36mFuture.result\u001b[39m\u001b[34m(self)\u001b[39m\n\u001b[32m    201\u001b[39m \u001b[38;5;28mself\u001b[39m.__log_traceback = \u001b[38;5;28;01mFalse\u001b[39;00m\n\u001b[32m    202\u001b[39m \u001b[38;5;28;01mif\u001b[39;00m \u001b[38;5;28mself\u001b[39m._exception \u001b[38;5;129;01mis\u001b[39;00m \u001b[38;5;129;01mnot\u001b[39;00m \u001b[38;5;28;01mNone\u001b[39;00m:\n\u001b[32m--> \u001b[39m\u001b[32m203\u001b[39m     \u001b[38;5;28;01mraise\u001b[39;00m \u001b[38;5;28mself\u001b[39m._exception.with_traceback(\u001b[38;5;28mself\u001b[39m._exception_tb)\n\u001b[32m    204\u001b[39m \u001b[38;5;28;01mreturn\u001b[39;00m \u001b[38;5;28mself\u001b[39m._result\n",
      "\u001b[36mFile \u001b[39m\u001b[32m~/miniconda3/envs/backend/lib/python3.12/asyncio/tasks.py:304\u001b[39m, in \u001b[36mTask.__step_run_and_handle_result\u001b[39m\u001b[34m(***failed resolving arguments***)\u001b[39m\n\u001b[32m    300\u001b[39m \u001b[38;5;28;01mtry\u001b[39;00m:\n\u001b[32m    301\u001b[39m     \u001b[38;5;28;01mif\u001b[39;00m exc \u001b[38;5;129;01mis\u001b[39;00m \u001b[38;5;28;01mNone\u001b[39;00m:\n\u001b[32m    302\u001b[39m         \u001b[38;5;66;03m# We use the `send` method directly, because coroutines\u001b[39;00m\n\u001b[32m    303\u001b[39m         \u001b[38;5;66;03m# don't have `__iter__` and `__next__` methods.\u001b[39;00m\n\u001b[32m--> \u001b[39m\u001b[32m304\u001b[39m         result = \u001b[43mcoro\u001b[49m\u001b[43m.\u001b[49m\u001b[43msend\u001b[49m\u001b[43m(\u001b[49m\u001b[38;5;28;43;01mNone\u001b[39;49;00m\u001b[43m)\u001b[49m\n\u001b[32m    305\u001b[39m     \u001b[38;5;28;01melse\u001b[39;00m:\n\u001b[32m    306\u001b[39m         result = coro.throw(exc)\n",
      "\u001b[36mCell\u001b[39m\u001b[36m \u001b[39m\u001b[32mIn[12]\u001b[39m\u001b[32m, line 35\u001b[39m, in \u001b[36mrun_agent_test\u001b[39m\u001b[34m()\u001b[39m\n\u001b[32m     31\u001b[39m     \u001b[38;5;28mprint\u001b[39m(\u001b[33m\"\u001b[39m\u001b[33mAgent execution will likely fail.\u001b[39m\u001b[33m\"\u001b[39m)\n\u001b[32m     32\u001b[39m     \u001b[38;5;66;03m# return # Exit if essential variables for the tool are missing\u001b[39;00m\n\u001b[32m     33\u001b[39m \n\u001b[32m     34\u001b[39m \u001b[38;5;66;03m# Initialize the agent\u001b[39;00m\n\u001b[32m---> \u001b[39m\u001b[32m35\u001b[39m agent = \u001b[43mTokenTransferAgent\u001b[49m\u001b[43m(\u001b[49m\u001b[43m)\u001b[49m\n\u001b[32m     36\u001b[39m \u001b[38;5;28mprint\u001b[39m(\u001b[33mf\u001b[39m\u001b[33m\"\u001b[39m\u001b[33mAgent \u001b[39m\u001b[33m'\u001b[39m\u001b[38;5;132;01m{\u001b[39;00magent.name\u001b[38;5;132;01m}\u001b[39;00m\u001b[33m'\u001b[39m\u001b[33m initialized.\u001b[39m\u001b[33m\"\u001b[39m)\n\u001b[32m     37\u001b[39m \u001b[38;5;28mprint\u001b[39m(\u001b[33mf\u001b[39m\u001b[33m\"\u001b[39m\u001b[33mAvailable tools: \u001b[39m\u001b[38;5;132;01m{\u001b[39;00m[tool.name\u001b[38;5;250m \u001b[39m\u001b[38;5;28;01mfor\u001b[39;00m\u001b[38;5;250m \u001b[39mtool\u001b[38;5;250m \u001b[39m\u001b[38;5;129;01min\u001b[39;00m\u001b[38;5;250m \u001b[39magent.available_tools.tools]\u001b[38;5;132;01m}\u001b[39;00m\u001b[33m\"\u001b[39m)\n",
      "\u001b[36mFile \u001b[39m\u001b[32m~/SpoonAI/spoon_ai/agents/base.py:47\u001b[39m, in \u001b[36mBaseAgent.__init__\u001b[39m\u001b[34m(self, **kwargs)\u001b[39m\n\u001b[32m     46\u001b[39m \u001b[38;5;28;01mdef\u001b[39;00m\u001b[38;5;250m \u001b[39m\u001b[34m__init__\u001b[39m(\u001b[38;5;28mself\u001b[39m, **kwargs):\n\u001b[32m---> \u001b[39m\u001b[32m47\u001b[39m     \u001b[38;5;28;43msuper\u001b[39;49m\u001b[43m(\u001b[49m\u001b[43m)\u001b[49m\u001b[43m.\u001b[49m\u001b[34;43m__init__\u001b[39;49m\u001b[43m(\u001b[49m\u001b[43m*\u001b[49m\u001b[43m*\u001b[49m\u001b[43mkwargs\u001b[49m\u001b[43m)\u001b[49m\n\u001b[32m     48\u001b[39m     \u001b[38;5;28mself\u001b[39m.state = AgentState.IDLE\n",
      "    \u001b[31m[... skipping hidden 1 frame]\u001b[39m\n",
      "\u001b[36mFile \u001b[39m\u001b[32m~/SpoonAI/spoon_ai/tools/tool_manager.py:14\u001b[39m, in \u001b[36mToolManager.__init__\u001b[39m\u001b[34m(self, tools)\u001b[39m\n\u001b[32m     12\u001b[39m \u001b[38;5;28;01mdef\u001b[39;00m\u001b[38;5;250m \u001b[39m\u001b[34m__init__\u001b[39m(\u001b[38;5;28mself\u001b[39m, tools: List[BaseTool]):\n\u001b[32m     13\u001b[39m     \u001b[38;5;28mself\u001b[39m.tools = tools\n\u001b[32m---> \u001b[39m\u001b[32m14\u001b[39m     \u001b[38;5;28mself\u001b[39m.tool_map = {\u001b[43mtool\u001b[49m\u001b[43m.\u001b[49m\u001b[43mname\u001b[49m: tool \u001b[38;5;28;01mfor\u001b[39;00m tool \u001b[38;5;129;01min\u001b[39;00m tools}\n\u001b[32m     15\u001b[39m     \u001b[38;5;28mself\u001b[39m.indexed = \u001b[38;5;28;01mFalse\u001b[39;00m\n",
      "\u001b[31mAttributeError\u001b[39m: 'str' object has no attribute 'name'"
     ]
    }
   ],
   "source": [
    "# --- Example Usage (Optional - for testing) ---\n",
    "if __name__ == '__main__':\n",
    "    # This block allows testing the agent directly if the file is run as a script.\n",
    "    # Remember to set necessary environment variables:\n",
    "    # - LLM API Key (e.g., ANTHROPIC_API_KEY or OPENAI_API_KEY)\n",
    "    # - Blockchain details (RPC_URL, SCAN_URL, CHAIN_ID)\n",
    "    # - Wallet details (PRIVATE_KEY) for the TokenTransfer tool to sign transactions.\n",
    "    \n",
    "    import asyncio\n",
    "    import nest_asyncio\n",
    "    import os\n",
    "\n",
    "    # Apply nest_asyncio if running in a compatible environment (like Jupyter)\n",
    "    nest_asyncio.apply()\n",
    "\n",
    "    async def run_agent_test():\n",
    "        print(\"--- Starting Token Transfer Agent Test ---\")\n",
    "        \n",
    "        # Check for essential environment variables\n",
    "        required_vars = ['RPC_URL', 'PRIVATE_KEY'] \n",
    "        # Add 'ANTHROPIC_API_KEY' or 'OPENAI_API_KEY' based on ChatBot default\n",
    "        llm_key_set = os.getenv('ANTHROPIC_API_KEY') or os.getenv('OPENAI_API_KEY')\n",
    "        if not llm_key_set:\n",
    "             print(\"WARNING: LLM API Key (ANTHROPIC_API_KEY or OPENAI_API_KEY) not set.\")\n",
    "             # Decide if you want to exit or proceed without LLM functionality\n",
    "             # return \n",
    "\n",
    "        missing_vars = [var for var in required_vars if not os.getenv(var)]\n",
    "        if missing_vars:\n",
    "            print(f\"ERROR: Missing required environment variables for execution: {', '.join(missing_vars)}\")\n",
    "            print(\"Agent execution will likely fail.\")\n",
    "            # return # Exit if essential variables for the tool are missing\n",
    "\n",
    "        # Initialize the agent\n",
    "        agent = TokenTransferAgent()\n",
    "        print(f\"Agent '{agent.name}' initialized.\")\n",
    "        print(f\"Available tools: {[tool.name for tool in agent.available_tools.tools]}\")\n",
    "        \n",
    "        # Define a sample user request \n",
    "        # IMPORTANT: Replace placeholder addresses with actual values for a real test!\n",
    "        user_request = \"Please transfer 0.001 TEST_TOKEN to 0xRecipientPlaceholderAddress. The token address is 0xTokenPlaceholderAddress.\"\n",
    "        print(f\"\\nUser Request: '{user_request}'\")\n",
    "        \n",
    "        # Execute the agent's run method (assuming it's inherited from ToolCallAgent)\n",
    "        try:\n",
    "            if hasattr(agent, 'run'):\n",
    "                # The exact input format might depend on the ToolCallAgent's run method signature\n",
    "                result = await agent.run(input=user_request) \n",
    "                print(\"\\n--- Agent Execution Finished ---\")\n",
    "                print(\"Final Result:\")\n",
    "                print(result)\n",
    "            else:\n",
    "                print(\"\\nERROR: Agent does not have a 'run' method. Cannot execute.\")\n",
    "        except Exception as e:\n",
    "            print(f\"\\n--- Agent Execution Failed ---\")\n",
    "            print(f\"An error occurred: {e}\")\n",
    "\n",
    "    # Run the asynchronous test function\n",
    "    print(\"Ensure environment variables (API keys, RPC_URL, PRIVATE_KEY, etc.) are set before running.\")\n",
    "    asyncio.run(run_agent_test())\n",
    "    print(\"\\n(Test run is commented out by default. Uncomment the last line in the script to execute.)\") "
   ]
  },
  {
   "cell_type": "code",
   "execution_count": null,
   "metadata": {},
   "outputs": [],
   "source": []
  }
 ],
 "metadata": {
  "kernelspec": {
   "display_name": "backend",
   "language": "python",
   "name": "python3"
  },
  "language_info": {
   "codemirror_mode": {
    "name": "ipython",
    "version": 3
   },
   "file_extension": ".py",
   "mimetype": "text/x-python",
   "name": "python",
   "nbconvert_exporter": "python",
   "pygments_lexer": "ipython3",
   "version": "3.12.0"
  }
 },
 "nbformat": 4,
 "nbformat_minor": 2
}
